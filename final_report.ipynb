{
 "cells": [
  {
   "cell_type": "markdown",
   "metadata": {},
   "source": [
    "# Capstone project - Car Accident Severity\n",
    "## Final report"
   ]
  },
  {
   "cell_type": "markdown",
   "metadata": {},
   "source": [
    "### Introduction\n",
    "Car accidents are a huge problem in the modern world. The Global Status report on road safety collected data from 180 countries and found that 1.25 million people die internationally every year from car accidents. Many governments collect accident records and make these publicly available to encourage researchers to try and find models that can explain and predict what conditions cause car accidents and hopefully help prevent them. In this project we pose the car accident fatality prediction as a supervised learning classification problem and offer our model to all governments."
   ]
  },
  {
   "cell_type": "markdown",
   "metadata": {},
   "source": [
    "### Data\n",
    "In this project we use the collisions records dataset provided by the Seattle Police Department at Seattle.gov. The dataset contains 195,000 records of all types of collisions from the year 2004 to present, updated weekly. It includes 37 features that describe the type of collision or accident that occurred, such as: accident location, number of people involved, number of vehicles involved, time of day, weather conditions etc.  "
   ]
  },
  {
   "cell_type": "code",
   "execution_count": null,
   "metadata": {},
   "outputs": [],
   "source": []
  }
 ],
 "metadata": {
  "kernelspec": {
   "display_name": "Python",
   "language": "python",
   "name": "conda-env-python-py"
  },
  "language_info": {
   "codemirror_mode": {
    "name": "ipython",
    "version": 3
   },
   "file_extension": ".py",
   "mimetype": "text/x-python",
   "name": "python",
   "nbconvert_exporter": "python",
   "pygments_lexer": "ipython3",
   "version": "3.6.11"
  }
 },
 "nbformat": 4,
 "nbformat_minor": 4
}
